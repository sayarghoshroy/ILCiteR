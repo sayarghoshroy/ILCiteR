{
  "cells": [
    {
      "cell_type": "markdown",
      "metadata": {
        "id": "view-in-github",
        "colab_type": "text"
      },
      "source": [
        "<a href=\"https://colab.research.google.com/github/anon/ILCiteR/blob/main/split_domains.ipynb\" target=\"_parent\"><img src=\"https://colab.research.google.com/assets/colab-badge.svg\" alt=\"Open In Colab\"/></a>"
      ]
    },
    {
      "cell_type": "code",
      "execution_count": 1,
      "metadata": {
        "id": "P4uw0BKBj6-F"
      },
      "outputs": [],
      "source": [
        "import pickle\n",
        "import ast\n",
        "import json\n",
        "import tqdm\n",
        "from collections import defaultdict"
      ]
    },
    {
      "cell_type": "code",
      "execution_count": 2,
      "metadata": {
        "id": "qMn3xw1GkLYp"
      },
      "outputs": [],
      "source": [
        "location = 'drive/My Drive/cite_reco_s2orc/full/'\n",
        "\n",
        "domains = ['mt', 'ner', 'sa', 'summ']\n",
        "domain_to_paper_ids = defaultdict(list)\n",
        "domain_to_papers = defaultdict(list)"
      ]
    },
    {
      "cell_type": "code",
      "execution_count": 3,
      "metadata": {
        "id": "R6BZeuVPkSEM"
      },
      "outputs": [],
      "source": [
        "# Create domain-wise paper IDs\n",
        "\n",
        "for domain in domains:\n",
        "  with open(location + domain + '.jsonl') as f:\n",
        "    while True:\n",
        "      line = f.readline()\n",
        "      if not line:\n",
        "        break\n",
        "      meta = ast.literal_eval(line)\n",
        "      domain_to_paper_ids[domain].append(meta['paper_id'])"
      ]
    },
    {
      "cell_type": "code",
      "source": [
        "# View number of fetched paper IDs for each domain\n",
        "\n",
        "print('Number of fetched paper IDs:')\n",
        "\n",
        "for domain in domains:\n",
        "  print(domain, len(domain_to_paper_ids[domain]))\n",
        "  domain_to_paper_ids[domain] = set(domain_to_paper_ids[domain])"
      ],
      "metadata": {
        "colab": {
          "base_uri": "https://localhost:8080/"
        },
        "id": "xHg6v3v1vCul",
        "outputId": "d3558ddf-a200-40c1-9a3b-eb1d2caccc11"
      },
      "execution_count": 4,
      "outputs": [
        {
          "output_type": "stream",
          "name": "stdout",
          "text": [
            "Number of fetched paper IDs:\n",
            "mt 9522\n",
            "ner 2260\n",
            "sa 5798\n",
            "summ 8445\n"
          ]
        }
      ]
    },
    {
      "cell_type": "code",
      "source": [
        "# Create domain-wise paper parse data\n",
        "\n",
        "def generator():\n",
        "  with open(location + 'parses.jsonl') as f:\n",
        "    while True:\n",
        "      line = f.readline()\n",
        "      if not line:\n",
        "        break\n",
        "      paper = ast.literal_eval(line)\n",
        "      for domain in domains:\n",
        "        if paper['paper_id'] in domain_to_paper_ids[domain]:\n",
        "          domain_to_papers[domain].append(paper)\n",
        "      yield\n",
        "\n",
        "for _ in tqdm.tqdm(generator()):\n",
        "  pass"
      ],
      "metadata": {
        "colab": {
          "base_uri": "https://localhost:8080/"
        },
        "id": "AzGr9dzwwEio",
        "outputId": "0bfa1b53-b3d0-49de-de4c-9ff2c7fb3d23"
      },
      "execution_count": 5,
      "outputs": [
        {
          "output_type": "stream",
          "name": "stderr",
          "text": [
            "25366it [02:12, 191.46it/s]\n"
          ]
        }
      ]
    },
    {
      "cell_type": "code",
      "source": [
        "# View number of fetched paper parses for each domain\n",
        "\n",
        "print('Number of fetched paper parses:')\n",
        "\n",
        "for domain in domains:\n",
        "  print(domain, len(domain_to_papers[domain]))\n",
        "  with open(location + 'domain_parses/' + domain + '.json', 'w+') as f:\n",
        "    json.dump(domain_to_papers[domain], f)"
      ],
      "metadata": {
        "colab": {
          "base_uri": "https://localhost:8080/"
        },
        "id": "BBIFut7EzQMI",
        "outputId": "96b17492-495b-4246-d9b9-6d7f03ff2114"
      },
      "execution_count": 6,
      "outputs": [
        {
          "output_type": "stream",
          "name": "stdout",
          "text": [
            "Number of fetched paper parses:\n",
            "mt 9522\n",
            "ner 2260\n",
            "sa 5798\n",
            "summ 8445\n"
          ]
        }
      ]
    },
    {
      "cell_type": "code",
      "source": [
        "# That's it"
      ],
      "metadata": {
        "id": "IyX5qZG58qBB"
      },
      "execution_count": 7,
      "outputs": []
    }
  ],
  "metadata": {
    "colab": {
      "provenance": [],
      "mount_file_id": "1Yk8O9Sl00ixUHHa9FwdgVNNpScKFMVzG",
      "authorship_tag": "ABX9TyN5NFqwJAwjYj2qodoEnVy3",
      "include_colab_link": true
    },
    "kernelspec": {
      "display_name": "Python 3",
      "name": "python3"
    },
    "language_info": {
      "name": "python"
    }
  },
  "nbformat": 4,
  "nbformat_minor": 0
}