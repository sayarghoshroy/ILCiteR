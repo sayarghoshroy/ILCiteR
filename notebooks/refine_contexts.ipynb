{
  "nbformat": 4,
  "nbformat_minor": 0,
  "metadata": {
    "colab": {
      "provenance": [],
      "mount_file_id": "13ukfmlL-NaApr1uqc0pxkNsJKhyKP8GD",
      "authorship_tag": "ABX9TyPR7bbfVFScx72eG7qMzT0W",
      "include_colab_link": true
    },
    "kernelspec": {
      "name": "python3",
      "display_name": "Python 3"
    },
    "language_info": {
      "name": "python"
    }
  },
  "cells": [
    {
      "cell_type": "markdown",
      "metadata": {
        "id": "view-in-github",
        "colab_type": "text"
      },
      "source": [
        "<a href=\"https://colab.research.google.com/github/anon/ILCiteR/blob/main/refine_contexts.ipynb\" target=\"_parent\"><img src=\"https://colab.research.google.com/assets/colab-badge.svg\" alt=\"Open In Colab\"/></a>"
      ]
    },
    {
      "cell_type": "code",
      "execution_count": 1,
      "metadata": {
        "id": "2yr8BBQ6F6NO"
      },
      "outputs": [],
      "source": [
        "import json\n",
        "import spacy\n",
        "from spacy import displacy\n",
        "import nltk\n",
        "import matplotlib.pyplot as plt\n",
        "import pandas as pd\n",
        "from IPython.display import display\n",
        "import warnings\n",
        "from collections import defaultdict\n",
        "warnings.filterwarnings('ignore')"
      ]
    },
    {
      "cell_type": "code",
      "source": [
        "%%capture\n",
        "nltk.download('punkt')"
      ],
      "metadata": {
        "colab": {
          "base_uri": "https://localhost:8080/"
        },
        "id": "im0F0C9biDEx",
        "outputId": "9838bcab-abf9-4bf7-e792-f243d51132bc"
      },
      "execution_count": 2,
      "outputs": [
        {
          "output_type": "stream",
          "name": "stderr",
          "text": [
            "[nltk_data] Downloading package punkt to /root/nltk_data...\n",
            "[nltk_data]   Package punkt is already up-to-date!\n"
          ]
        }
      ]
    },
    {
      "cell_type": "code",
      "source": [
        "# Initializing the processor\n",
        "proc = spacy.load('en_core_web_sm')"
      ],
      "metadata": {
        "id": "CZsQaa2RGE2P"
      },
      "execution_count": 3,
      "outputs": []
    },
    {
      "cell_type": "code",
      "source": [
        "location = 'drive/My Drive/cite_reco_s2orc/full/'\n",
        "coarse_maps_loc = 'domain_coarse_mappings/'\n",
        "\n",
        "domain_codes = ['mt', 'ner', 'sa', 'summ']"
      ],
      "metadata": {
        "id": "inv6pgVBGMzp"
      },
      "execution_count": 4,
      "outputs": []
    },
    {
      "cell_type": "code",
      "source": [
        "code = domain_codes[0]\n",
        "with open(location + coarse_maps_loc + code + '.json', 'r+') as f:\n",
        "  coarse = json.load(f)"
      ],
      "metadata": {
        "id": "eIN9gi6UID1S"
      },
      "execution_count": 5,
      "outputs": []
    },
    {
      "cell_type": "code",
      "source": [
        "example = 'Neural machine translation (NMT), a new approach to solving machine translation, has achieved promising results BIBREF6# BIBREF15# BIBREF0# BIBREF5# BIBREF10# BIBREF11#'"
      ],
      "metadata": {
        "id": "4wtPuc1BIUmW"
      },
      "execution_count": 6,
      "outputs": []
    },
    {
      "cell_type": "code",
      "source": [
        "def group_refs(sentence):\n",
        "  raw_tokens = nltk.word_tokenize(sentence)\n",
        "  curr_group = -1\n",
        "  in_group = False\n",
        "  proc_toks = []\n",
        "  l = len(raw_tokens)\n",
        "  index = 0\n",
        "  group_to_IDs = defaultdict(list)\n",
        "\n",
        "  while index < l:\n",
        "    token = raw_tokens[index]\n",
        "    if token.startswith('BIBREF'):\n",
        "      ID = int(token[6:])\n",
        "      index += 1\n",
        "      if in_group == False:\n",
        "        curr_group += 1\n",
        "        proc_toks.append('BIBGROUP' + str(curr_group))\n",
        "      in_group = True\n",
        "      group_to_IDs[curr_group].append(ID)\n",
        "    else:\n",
        "      proc_toks.append(token)\n",
        "      in_group = False\n",
        "    index += 1\n",
        "\n",
        "  return proc_toks, dict(group_to_IDs)\n",
        "\n",
        "def tokens_to_str(tokens):\n",
        "  return ' '.join(tokens).strip()"
      ],
      "metadata": {
        "id": "7wcXQd-8IYsu"
      },
      "execution_count": 7,
      "outputs": []
    },
    {
      "cell_type": "code",
      "source": [
        "example_A = tokens_to_str(group_refs(example)[0])\n",
        "example_B = 'Typical LLMs include BERT BIBGROUP0 , BART BIBGROUP1 , GPT BIBGROUP2 .'\n",
        "example_C = 'They used BERT BIBGROUP1, a popular Large Language Model BIBGROUP0, to generate context embeddings BIBGROUP2 .'\n",
        "example_D = 'Context embeddings were generated using Sentence Transformers BIBGROUP0 .'\n",
        "example_E = 'A large majority of work in the past few years has been focused on extractive summarization BIBGROUP0 , where a summary consists of key sentences from the source text .'\n",
        "example_F = 'Therefore , we employ the primary encoder to generate coarse encoding using a GRU-based RNN BIBGROUP0 .'\n",
        "example_G = 'They used a IEX parser BIBGROUP0 to encode the data streams .'\n",
        "example_H = 'Traditionally , Recurrent Neural Networks (RNN) were used in encoders and decoders BIBGROUP3 , but other neural network architectures such as Convolutional Neural Networks (CNN) BIBGROUP0 and attention mechanism-based models BIBGROUP1 are also used.'"
      ],
      "metadata": {
        "id": "fF8uBOdeZCq9"
      },
      "execution_count": 8,
      "outputs": []
    },
    {
      "cell_type": "code",
      "source": [
        "# Generating the dependency tree for the sentence\n",
        "\n",
        "extract = proc(example_C)\n",
        "displacy.render(extract, style = 'dep', jupyter = True, options = {'distance': 120})"
      ],
      "metadata": {
        "colab": {
          "base_uri": "https://localhost:8080/",
          "height": 478
        },
        "id": "WvvXxNrxh70p",
        "outputId": "ed3677dd-d2d9-48de-bad6-a8e3f4096da1"
      },
      "execution_count": 9,
      "outputs": [
        {
          "output_type": "display_data",
          "data": {
            "text/plain": [
              "<IPython.core.display.HTML object>"
            ],
            "text/html": [
              "<span class=\"tex2jax_ignore\"><svg xmlns=\"http://www.w3.org/2000/svg\" xmlns:xlink=\"http://www.w3.org/1999/xlink\" xml:lang=\"en\" id=\"0d05f564eb584e93ab1b927983efaadc-0\" class=\"displacy\" width=\"1850\" height=\"437.0\" direction=\"ltr\" style=\"max-width: none; height: 437.0px; color: #000000; background: #ffffff; font-family: Arial; direction: ltr\">\n",
              "<text class=\"displacy-token\" fill=\"currentColor\" text-anchor=\"middle\" y=\"347.0\">\n",
              "    <tspan class=\"displacy-word\" fill=\"currentColor\" x=\"50\">They</tspan>\n",
              "    <tspan class=\"displacy-tag\" dy=\"2em\" fill=\"currentColor\" x=\"50\">PRON</tspan>\n",
              "</text>\n",
              "\n",
              "<text class=\"displacy-token\" fill=\"currentColor\" text-anchor=\"middle\" y=\"347.0\">\n",
              "    <tspan class=\"displacy-word\" fill=\"currentColor\" x=\"170\">used</tspan>\n",
              "    <tspan class=\"displacy-tag\" dy=\"2em\" fill=\"currentColor\" x=\"170\">VERB</tspan>\n",
              "</text>\n",
              "\n",
              "<text class=\"displacy-token\" fill=\"currentColor\" text-anchor=\"middle\" y=\"347.0\">\n",
              "    <tspan class=\"displacy-word\" fill=\"currentColor\" x=\"290\">BERT</tspan>\n",
              "    <tspan class=\"displacy-tag\" dy=\"2em\" fill=\"currentColor\" x=\"290\">PROPN</tspan>\n",
              "</text>\n",
              "\n",
              "<text class=\"displacy-token\" fill=\"currentColor\" text-anchor=\"middle\" y=\"347.0\">\n",
              "    <tspan class=\"displacy-word\" fill=\"currentColor\" x=\"410\">BIBGROUP1,</tspan>\n",
              "    <tspan class=\"displacy-tag\" dy=\"2em\" fill=\"currentColor\" x=\"410\">PROPN</tspan>\n",
              "</text>\n",
              "\n",
              "<text class=\"displacy-token\" fill=\"currentColor\" text-anchor=\"middle\" y=\"347.0\">\n",
              "    <tspan class=\"displacy-word\" fill=\"currentColor\" x=\"530\">a</tspan>\n",
              "    <tspan class=\"displacy-tag\" dy=\"2em\" fill=\"currentColor\" x=\"530\">DET</tspan>\n",
              "</text>\n",
              "\n",
              "<text class=\"displacy-token\" fill=\"currentColor\" text-anchor=\"middle\" y=\"347.0\">\n",
              "    <tspan class=\"displacy-word\" fill=\"currentColor\" x=\"650\">popular</tspan>\n",
              "    <tspan class=\"displacy-tag\" dy=\"2em\" fill=\"currentColor\" x=\"650\">ADJ</tspan>\n",
              "</text>\n",
              "\n",
              "<text class=\"displacy-token\" fill=\"currentColor\" text-anchor=\"middle\" y=\"347.0\">\n",
              "    <tspan class=\"displacy-word\" fill=\"currentColor\" x=\"770\">Large</tspan>\n",
              "    <tspan class=\"displacy-tag\" dy=\"2em\" fill=\"currentColor\" x=\"770\">PROPN</tspan>\n",
              "</text>\n",
              "\n",
              "<text class=\"displacy-token\" fill=\"currentColor\" text-anchor=\"middle\" y=\"347.0\">\n",
              "    <tspan class=\"displacy-word\" fill=\"currentColor\" x=\"890\">Language</tspan>\n",
              "    <tspan class=\"displacy-tag\" dy=\"2em\" fill=\"currentColor\" x=\"890\">PROPN</tspan>\n",
              "</text>\n",
              "\n",
              "<text class=\"displacy-token\" fill=\"currentColor\" text-anchor=\"middle\" y=\"347.0\">\n",
              "    <tspan class=\"displacy-word\" fill=\"currentColor\" x=\"1010\">Model</tspan>\n",
              "    <tspan class=\"displacy-tag\" dy=\"2em\" fill=\"currentColor\" x=\"1010\">PROPN</tspan>\n",
              "</text>\n",
              "\n",
              "<text class=\"displacy-token\" fill=\"currentColor\" text-anchor=\"middle\" y=\"347.0\">\n",
              "    <tspan class=\"displacy-word\" fill=\"currentColor\" x=\"1130\">BIBGROUP0,</tspan>\n",
              "    <tspan class=\"displacy-tag\" dy=\"2em\" fill=\"currentColor\" x=\"1130\">PROPN</tspan>\n",
              "</text>\n",
              "\n",
              "<text class=\"displacy-token\" fill=\"currentColor\" text-anchor=\"middle\" y=\"347.0\">\n",
              "    <tspan class=\"displacy-word\" fill=\"currentColor\" x=\"1250\">to</tspan>\n",
              "    <tspan class=\"displacy-tag\" dy=\"2em\" fill=\"currentColor\" x=\"1250\">PART</tspan>\n",
              "</text>\n",
              "\n",
              "<text class=\"displacy-token\" fill=\"currentColor\" text-anchor=\"middle\" y=\"347.0\">\n",
              "    <tspan class=\"displacy-word\" fill=\"currentColor\" x=\"1370\">generate</tspan>\n",
              "    <tspan class=\"displacy-tag\" dy=\"2em\" fill=\"currentColor\" x=\"1370\">VERB</tspan>\n",
              "</text>\n",
              "\n",
              "<text class=\"displacy-token\" fill=\"currentColor\" text-anchor=\"middle\" y=\"347.0\">\n",
              "    <tspan class=\"displacy-word\" fill=\"currentColor\" x=\"1490\">context</tspan>\n",
              "    <tspan class=\"displacy-tag\" dy=\"2em\" fill=\"currentColor\" x=\"1490\">NOUN</tspan>\n",
              "</text>\n",
              "\n",
              "<text class=\"displacy-token\" fill=\"currentColor\" text-anchor=\"middle\" y=\"347.0\">\n",
              "    <tspan class=\"displacy-word\" fill=\"currentColor\" x=\"1610\">embeddings</tspan>\n",
              "    <tspan class=\"displacy-tag\" dy=\"2em\" fill=\"currentColor\" x=\"1610\">NOUN</tspan>\n",
              "</text>\n",
              "\n",
              "<text class=\"displacy-token\" fill=\"currentColor\" text-anchor=\"middle\" y=\"347.0\">\n",
              "    <tspan class=\"displacy-word\" fill=\"currentColor\" x=\"1730\">BIBGROUP2 .</tspan>\n",
              "    <tspan class=\"displacy-tag\" dy=\"2em\" fill=\"currentColor\" x=\"1730\">PROPN</tspan>\n",
              "</text>\n",
              "\n",
              "<g class=\"displacy-arrow\">\n",
              "    <path class=\"displacy-arc\" id=\"arrow-0d05f564eb584e93ab1b927983efaadc-0-0\" stroke-width=\"2px\" d=\"M70,302.0 C70,242.0 150.0,242.0 150.0,302.0\" fill=\"none\" stroke=\"currentColor\"/>\n",
              "    <text dy=\"1.25em\" style=\"font-size: 0.8em; letter-spacing: 1px\">\n",
              "        <textPath xlink:href=\"#arrow-0d05f564eb584e93ab1b927983efaadc-0-0\" class=\"displacy-label\" startOffset=\"50%\" side=\"left\" fill=\"currentColor\" text-anchor=\"middle\">nsubj</textPath>\n",
              "    </text>\n",
              "    <path class=\"displacy-arrowhead\" d=\"M70,304.0 L62,292.0 78,292.0\" fill=\"currentColor\"/>\n",
              "</g>\n",
              "\n",
              "<g class=\"displacy-arrow\">\n",
              "    <path class=\"displacy-arc\" id=\"arrow-0d05f564eb584e93ab1b927983efaadc-0-1\" stroke-width=\"2px\" d=\"M310,302.0 C310,242.0 390.0,242.0 390.0,302.0\" fill=\"none\" stroke=\"currentColor\"/>\n",
              "    <text dy=\"1.25em\" style=\"font-size: 0.8em; letter-spacing: 1px\">\n",
              "        <textPath xlink:href=\"#arrow-0d05f564eb584e93ab1b927983efaadc-0-1\" class=\"displacy-label\" startOffset=\"50%\" side=\"left\" fill=\"currentColor\" text-anchor=\"middle\">compound</textPath>\n",
              "    </text>\n",
              "    <path class=\"displacy-arrowhead\" d=\"M310,304.0 L302,292.0 318,292.0\" fill=\"currentColor\"/>\n",
              "</g>\n",
              "\n",
              "<g class=\"displacy-arrow\">\n",
              "    <path class=\"displacy-arc\" id=\"arrow-0d05f564eb584e93ab1b927983efaadc-0-2\" stroke-width=\"2px\" d=\"M190,302.0 C190,182.0 395.0,182.0 395.0,302.0\" fill=\"none\" stroke=\"currentColor\"/>\n",
              "    <text dy=\"1.25em\" style=\"font-size: 0.8em; letter-spacing: 1px\">\n",
              "        <textPath xlink:href=\"#arrow-0d05f564eb584e93ab1b927983efaadc-0-2\" class=\"displacy-label\" startOffset=\"50%\" side=\"left\" fill=\"currentColor\" text-anchor=\"middle\">dobj</textPath>\n",
              "    </text>\n",
              "    <path class=\"displacy-arrowhead\" d=\"M395.0,304.0 L403.0,292.0 387.0,292.0\" fill=\"currentColor\"/>\n",
              "</g>\n",
              "\n",
              "<g class=\"displacy-arrow\">\n",
              "    <path class=\"displacy-arc\" id=\"arrow-0d05f564eb584e93ab1b927983efaadc-0-3\" stroke-width=\"2px\" d=\"M550,302.0 C550,122.0 1120.0,122.0 1120.0,302.0\" fill=\"none\" stroke=\"currentColor\"/>\n",
              "    <text dy=\"1.25em\" style=\"font-size: 0.8em; letter-spacing: 1px\">\n",
              "        <textPath xlink:href=\"#arrow-0d05f564eb584e93ab1b927983efaadc-0-3\" class=\"displacy-label\" startOffset=\"50%\" side=\"left\" fill=\"currentColor\" text-anchor=\"middle\">det</textPath>\n",
              "    </text>\n",
              "    <path class=\"displacy-arrowhead\" d=\"M550,304.0 L542,292.0 558,292.0\" fill=\"currentColor\"/>\n",
              "</g>\n",
              "\n",
              "<g class=\"displacy-arrow\">\n",
              "    <path class=\"displacy-arc\" id=\"arrow-0d05f564eb584e93ab1b927983efaadc-0-4\" stroke-width=\"2px\" d=\"M670,302.0 C670,182.0 1115.0,182.0 1115.0,302.0\" fill=\"none\" stroke=\"currentColor\"/>\n",
              "    <text dy=\"1.25em\" style=\"font-size: 0.8em; letter-spacing: 1px\">\n",
              "        <textPath xlink:href=\"#arrow-0d05f564eb584e93ab1b927983efaadc-0-4\" class=\"displacy-label\" startOffset=\"50%\" side=\"left\" fill=\"currentColor\" text-anchor=\"middle\">amod</textPath>\n",
              "    </text>\n",
              "    <path class=\"displacy-arrowhead\" d=\"M670,304.0 L662,292.0 678,292.0\" fill=\"currentColor\"/>\n",
              "</g>\n",
              "\n",
              "<g class=\"displacy-arrow\">\n",
              "    <path class=\"displacy-arc\" id=\"arrow-0d05f564eb584e93ab1b927983efaadc-0-5\" stroke-width=\"2px\" d=\"M790,302.0 C790,242.0 870.0,242.0 870.0,302.0\" fill=\"none\" stroke=\"currentColor\"/>\n",
              "    <text dy=\"1.25em\" style=\"font-size: 0.8em; letter-spacing: 1px\">\n",
              "        <textPath xlink:href=\"#arrow-0d05f564eb584e93ab1b927983efaadc-0-5\" class=\"displacy-label\" startOffset=\"50%\" side=\"left\" fill=\"currentColor\" text-anchor=\"middle\">compound</textPath>\n",
              "    </text>\n",
              "    <path class=\"displacy-arrowhead\" d=\"M790,304.0 L782,292.0 798,292.0\" fill=\"currentColor\"/>\n",
              "</g>\n",
              "\n",
              "<g class=\"displacy-arrow\">\n",
              "    <path class=\"displacy-arc\" id=\"arrow-0d05f564eb584e93ab1b927983efaadc-0-6\" stroke-width=\"2px\" d=\"M910,302.0 C910,242.0 990.0,242.0 990.0,302.0\" fill=\"none\" stroke=\"currentColor\"/>\n",
              "    <text dy=\"1.25em\" style=\"font-size: 0.8em; letter-spacing: 1px\">\n",
              "        <textPath xlink:href=\"#arrow-0d05f564eb584e93ab1b927983efaadc-0-6\" class=\"displacy-label\" startOffset=\"50%\" side=\"left\" fill=\"currentColor\" text-anchor=\"middle\">compound</textPath>\n",
              "    </text>\n",
              "    <path class=\"displacy-arrowhead\" d=\"M910,304.0 L902,292.0 918,292.0\" fill=\"currentColor\"/>\n",
              "</g>\n",
              "\n",
              "<g class=\"displacy-arrow\">\n",
              "    <path class=\"displacy-arc\" id=\"arrow-0d05f564eb584e93ab1b927983efaadc-0-7\" stroke-width=\"2px\" d=\"M1030,302.0 C1030,242.0 1110.0,242.0 1110.0,302.0\" fill=\"none\" stroke=\"currentColor\"/>\n",
              "    <text dy=\"1.25em\" style=\"font-size: 0.8em; letter-spacing: 1px\">\n",
              "        <textPath xlink:href=\"#arrow-0d05f564eb584e93ab1b927983efaadc-0-7\" class=\"displacy-label\" startOffset=\"50%\" side=\"left\" fill=\"currentColor\" text-anchor=\"middle\">compound</textPath>\n",
              "    </text>\n",
              "    <path class=\"displacy-arrowhead\" d=\"M1030,304.0 L1022,292.0 1038,292.0\" fill=\"currentColor\"/>\n",
              "</g>\n",
              "\n",
              "<g class=\"displacy-arrow\">\n",
              "    <path class=\"displacy-arc\" id=\"arrow-0d05f564eb584e93ab1b927983efaadc-0-8\" stroke-width=\"2px\" d=\"M430,302.0 C430,62.0 1125.0,62.0 1125.0,302.0\" fill=\"none\" stroke=\"currentColor\"/>\n",
              "    <text dy=\"1.25em\" style=\"font-size: 0.8em; letter-spacing: 1px\">\n",
              "        <textPath xlink:href=\"#arrow-0d05f564eb584e93ab1b927983efaadc-0-8\" class=\"displacy-label\" startOffset=\"50%\" side=\"left\" fill=\"currentColor\" text-anchor=\"middle\">appos</textPath>\n",
              "    </text>\n",
              "    <path class=\"displacy-arrowhead\" d=\"M1125.0,304.0 L1133.0,292.0 1117.0,292.0\" fill=\"currentColor\"/>\n",
              "</g>\n",
              "\n",
              "<g class=\"displacy-arrow\">\n",
              "    <path class=\"displacy-arc\" id=\"arrow-0d05f564eb584e93ab1b927983efaadc-0-9\" stroke-width=\"2px\" d=\"M1270,302.0 C1270,242.0 1350.0,242.0 1350.0,302.0\" fill=\"none\" stroke=\"currentColor\"/>\n",
              "    <text dy=\"1.25em\" style=\"font-size: 0.8em; letter-spacing: 1px\">\n",
              "        <textPath xlink:href=\"#arrow-0d05f564eb584e93ab1b927983efaadc-0-9\" class=\"displacy-label\" startOffset=\"50%\" side=\"left\" fill=\"currentColor\" text-anchor=\"middle\">aux</textPath>\n",
              "    </text>\n",
              "    <path class=\"displacy-arrowhead\" d=\"M1270,304.0 L1262,292.0 1278,292.0\" fill=\"currentColor\"/>\n",
              "</g>\n",
              "\n",
              "<g class=\"displacy-arrow\">\n",
              "    <path class=\"displacy-arc\" id=\"arrow-0d05f564eb584e93ab1b927983efaadc-0-10\" stroke-width=\"2px\" d=\"M190,302.0 C190,2.0 1370.0,2.0 1370.0,302.0\" fill=\"none\" stroke=\"currentColor\"/>\n",
              "    <text dy=\"1.25em\" style=\"font-size: 0.8em; letter-spacing: 1px\">\n",
              "        <textPath xlink:href=\"#arrow-0d05f564eb584e93ab1b927983efaadc-0-10\" class=\"displacy-label\" startOffset=\"50%\" side=\"left\" fill=\"currentColor\" text-anchor=\"middle\">xcomp</textPath>\n",
              "    </text>\n",
              "    <path class=\"displacy-arrowhead\" d=\"M1370.0,304.0 L1378.0,292.0 1362.0,292.0\" fill=\"currentColor\"/>\n",
              "</g>\n",
              "\n",
              "<g class=\"displacy-arrow\">\n",
              "    <path class=\"displacy-arc\" id=\"arrow-0d05f564eb584e93ab1b927983efaadc-0-11\" stroke-width=\"2px\" d=\"M1510,302.0 C1510,242.0 1590.0,242.0 1590.0,302.0\" fill=\"none\" stroke=\"currentColor\"/>\n",
              "    <text dy=\"1.25em\" style=\"font-size: 0.8em; letter-spacing: 1px\">\n",
              "        <textPath xlink:href=\"#arrow-0d05f564eb584e93ab1b927983efaadc-0-11\" class=\"displacy-label\" startOffset=\"50%\" side=\"left\" fill=\"currentColor\" text-anchor=\"middle\">compound</textPath>\n",
              "    </text>\n",
              "    <path class=\"displacy-arrowhead\" d=\"M1510,304.0 L1502,292.0 1518,292.0\" fill=\"currentColor\"/>\n",
              "</g>\n",
              "\n",
              "<g class=\"displacy-arrow\">\n",
              "    <path class=\"displacy-arc\" id=\"arrow-0d05f564eb584e93ab1b927983efaadc-0-12\" stroke-width=\"2px\" d=\"M1390,302.0 C1390,182.0 1595.0,182.0 1595.0,302.0\" fill=\"none\" stroke=\"currentColor\"/>\n",
              "    <text dy=\"1.25em\" style=\"font-size: 0.8em; letter-spacing: 1px\">\n",
              "        <textPath xlink:href=\"#arrow-0d05f564eb584e93ab1b927983efaadc-0-12\" class=\"displacy-label\" startOffset=\"50%\" side=\"left\" fill=\"currentColor\" text-anchor=\"middle\">dobj</textPath>\n",
              "    </text>\n",
              "    <path class=\"displacy-arrowhead\" d=\"M1595.0,304.0 L1603.0,292.0 1587.0,292.0\" fill=\"currentColor\"/>\n",
              "</g>\n",
              "\n",
              "<g class=\"displacy-arrow\">\n",
              "    <path class=\"displacy-arc\" id=\"arrow-0d05f564eb584e93ab1b927983efaadc-0-13\" stroke-width=\"2px\" d=\"M1390,302.0 C1390,122.0 1720.0,122.0 1720.0,302.0\" fill=\"none\" stroke=\"currentColor\"/>\n",
              "    <text dy=\"1.25em\" style=\"font-size: 0.8em; letter-spacing: 1px\">\n",
              "        <textPath xlink:href=\"#arrow-0d05f564eb584e93ab1b927983efaadc-0-13\" class=\"displacy-label\" startOffset=\"50%\" side=\"left\" fill=\"currentColor\" text-anchor=\"middle\">npadvmod</textPath>\n",
              "    </text>\n",
              "    <path class=\"displacy-arrowhead\" d=\"M1720.0,304.0 L1728.0,292.0 1712.0,292.0\" fill=\"currentColor\"/>\n",
              "</g>\n",
              "</svg></span>"
            ]
          },
          "metadata": {}
        }
      ]
    },
    {
      "cell_type": "code",
      "source": [
        "# Refined Contexts for picking out entities\n",
        "# Fetch tokens attached using the 'COMPOUND' or 'AMOD' tag ~ while previous token is a child and has the tag 'COMPOUND'\n",
        "\n",
        "def drop_REF_tags(tokens):\n",
        "  regular_tokens = []\n",
        "  for token in tokens:\n",
        "    if token.text.startswith('BIBGROUP'):\n",
        "      continue\n",
        "    regular_tokens.append(token.text)\n",
        "\n",
        "  return tokens_to_str(regular_tokens)\n",
        "\n",
        "def drop_particular_tags(tokens, drop_tags_set):\n",
        "  processed = []\n",
        "  for token in tokens:\n",
        "    if token in drop_tags_set:\n",
        "      continue\n",
        "    processed.append(token)\n",
        "  return processed\n",
        "\n",
        "valid_prev_deps = set(['compound', 'amod'])\n",
        "\n",
        "def make_fine_mappings(sentence, display = False):\n",
        "  global valid_prev_deps\n",
        "  extract = proc(sentence)\n",
        "  mappings = defaultdict(list)\n",
        "  all_groups = []\n",
        "  last_alnum_token = None\n",
        "\n",
        "  for index, node in enumerate(extract):\n",
        "    if node.text.isalnum():\n",
        "      last_alnum_token = node\n",
        "    if node.text.startswith('BIBGROUP'):\n",
        "      group_ID = int(node.text[8:])\n",
        "      all_groups.append(group_ID)\n",
        "      prev_index = index - 1\n",
        "      context_nodes = []\n",
        "      while prev_index > 0:\n",
        "        next_children_set = set([child for child in extract[prev_index + 1].children])\n",
        "        if extract[prev_index].dep_ in valid_prev_deps and extract[prev_index] in next_children_set:\n",
        "          context_nodes.append(extract[prev_index])\n",
        "          prev_index -= 1\n",
        "        else:\n",
        "          break\n",
        "      if context_nodes != []:\n",
        "        mappings[group_ID].append(tokens_to_str([node.text for node in context_nodes][:: -1]))\n",
        "\n",
        "  accounted_IDs = set([key for key in mappings.keys()])\n",
        "  all_groups_accounted = (len(all_groups) == len(accounted_IDs))\n",
        "  has_eos_ref = last_alnum_token is not None and last_alnum_token.text.startswith('BIBGROUP')\n",
        "\n",
        "  if display:\n",
        "    print('Group ID to Refined Contexts: ' + str(dict(mappings)))\n",
        "    print('All Groups IDs: ' + str(all_groups))\n",
        "    print('all_groups_accounted: ' + str(all_groups_accounted))\n",
        "    print('Has REF at End Of Sentence : ' + str(has_eos_ref))\n",
        "\n",
        "  if not all_groups_accounted or has_eos_ref:\n",
        "    # Split the sequence of sentence tokens into a sequence of refined contexts\n",
        "\n",
        "    if has_eos_ref:\n",
        "      last_ID = int(last_alnum_token.text[8:])\n",
        "      clean_sent = drop_REF_tags(extract)\n",
        "      mappings[last_ID].append(clean_sent)\n",
        "      accounted_IDs.add(last_ID)\n",
        "\n",
        "  add_context_IDs = set([ID for ID in all_groups if ID not in accounted_IDs])\n",
        "\n",
        "  if len(add_context_IDs) != 0:\n",
        "    tokens = drop_particular_tags([unit.text for unit in extract], accounted_IDs)\n",
        "\n",
        "    running_tokens = []\n",
        "    for token in tokens:\n",
        "      if token.startswith('BIBGROUP'):\n",
        "        ID = int(token[8:])\n",
        "        if ID in add_context_IDs:\n",
        "          if running_tokens != []:\n",
        "            mappings[ID] = tokens_to_str(running_tokens)\n",
        "            running_tokens = []\n",
        "      else:\n",
        "        running_tokens.append(token)\n",
        "\n",
        "  return dict(mappings)"
      ],
      "metadata": {
        "id": "SUyX1rQ0V6dr"
      },
      "execution_count": 10,
      "outputs": []
    },
    {
      "cell_type": "code",
      "source": [
        "# Usage:\n",
        "gen_mappings = make_fine_mappings(example_C, display = True)\n",
        "print('Generated Mappings:')\n",
        "print(gen_mappings)"
      ],
      "metadata": {
        "colab": {
          "base_uri": "https://localhost:8080/"
        },
        "id": "RiZ3kaKNbMhj",
        "outputId": "9455771e-e5fb-4101-f819-ca27de03daef"
      },
      "execution_count": 11,
      "outputs": [
        {
          "output_type": "stream",
          "name": "stdout",
          "text": [
            "Group ID to Refined Contexts: {1: ['BERT'], 0: ['Large Language Model']}\n",
            "All Groups IDs: [1, 0, 2]\n",
            "all_groups_accounted: False\n",
            "Has REF at End Of Sentence : True\n",
            "Generated Mappings:\n",
            "{1: ['BERT'], 0: ['Large Language Model'], 2: ['They used BERT , a popular Large Language Model , to generate context embeddings .']}\n"
          ]
        }
      ]
    },
    {
      "cell_type": "code",
      "source": [
        "# That's it"
      ],
      "metadata": {
        "id": "tDW1WoIvh_YY"
      },
      "execution_count": 12,
      "outputs": []
    }
  ]
}