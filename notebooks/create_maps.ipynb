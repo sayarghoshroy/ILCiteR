{
  "nbformat": 4,
  "nbformat_minor": 0,
  "metadata": {
    "colab": {
      "provenance": [],
      "mount_file_id": "1Q5FD7exjYA1McP-kPyIMWgednV2Qvhrw",
      "authorship_tag": "ABX9TyNR7yt6+rtc+Nkl/oTWGy7M",
      "include_colab_link": true
    },
    "kernelspec": {
      "name": "python3",
      "display_name": "Python 3"
    },
    "language_info": {
      "name": "python"
    }
  },
  "cells": [
    {
      "cell_type": "markdown",
      "metadata": {
        "id": "view-in-github",
        "colab_type": "text"
      },
      "source": [
        "<a href=\"https://colab.research.google.com/github/anon/ILCiteR/blob/main/create_maps.ipynb\" target=\"_parent\"><img src=\"https://colab.research.google.com/assets/colab-badge.svg\" alt=\"Open In Colab\"/></a>"
      ]
    },
    {
      "cell_type": "code",
      "execution_count": 1,
      "metadata": {
        "id": "WqC40wjfqscM"
      },
      "outputs": [],
      "source": [
        "import json\n",
        "from tqdm import tqdm\n",
        "import nltk\n",
        "import string\n",
        "from collections import defaultdict\n",
        "import warnings\n",
        "warnings.filterwarnings('ignore')"
      ]
    },
    {
      "cell_type": "code",
      "source": [
        "%%capture\n",
        "nltk.download('punkt')"
      ],
      "metadata": {
        "colab": {
          "base_uri": "https://localhost:8080/"
        },
        "id": "-tIIYNSovW3k",
        "outputId": "2771d3aa-9a98-4e07-e593-98f335a3b7b8"
      },
      "execution_count": 2,
      "outputs": [
        {
          "output_type": "stream",
          "name": "stderr",
          "text": [
            "[nltk_data] Downloading package punkt to /root/nltk_data...\n",
            "[nltk_data]   Package punkt is already up-to-date!\n"
          ]
        }
      ]
    },
    {
      "cell_type": "code",
      "source": [
        "location = 'drive/My Drive/cite_reco_s2orc/full/'\n",
        "mappings_loc = 'mappings/'\n",
        "maps_loc = 'maps/'\n",
        "split_locs = ['Database/', 'Eval/']\n",
        "\n",
        "domains = ['ner', 'sa', 'summ', 'mt']"
      ],
      "metadata": {
        "id": "LGgmJQ48q0L_"
      },
      "execution_count": 3,
      "outputs": []
    },
    {
      "cell_type": "code",
      "source": [
        "def get_mappings_from_file(domain, split_type):\n",
        "  # split_type is either 0 for Database or 1 for Eval\n",
        "  global location, mappings_loc, split_locs\n",
        "\n",
        "  with open(location + mappings_loc + split_locs[split_type] + domain + '.json', 'r+') as f:\n",
        "    mappings = json.load(f)\n",
        "\n",
        "  return mappings\n",
        "\n",
        "def dump_maps(domain, split_type, context_to_cites_map):\n",
        "  # split_type is either 0 for Database or 1 for Eval\n",
        "  global location, maps_loc, split_locs\n",
        "\n",
        "  with open(location + maps_loc + split_locs[split_type] + domain + '.json', 'w+') as f:\n",
        "    json.dump(context_to_cites_map, f)\n",
        "\n",
        "  return\n",
        "\n",
        "punct_string = ''\n",
        "for punct in string.punctuation:\n",
        "  punct_string += punct\n",
        "punct_string += ' '\n",
        "\n",
        "def clean_context(text):\n",
        "  global punct_string\n",
        "  return text.strip(punct_string)"
      ],
      "metadata": {
        "id": "ATd6v7_Kq7xa"
      },
      "execution_count": 4,
      "outputs": []
    },
    {
      "cell_type": "code",
      "source": [
        "# Format of a list unit within mappings:\n",
        "\n",
        "# Paper ID from which context was fetched\n",
        "# Raw Context\n",
        "# REF ID for the Reference\n",
        "# Reference Paper\n",
        "\n",
        "# Format of Database Maps\n",
        "\n",
        "# Key: Cleaned Context\n",
        "# Value: List of Papers with Supports ([paper_dict, support])"
      ],
      "metadata": {
        "id": "KE6Qz8OmxIJF"
      },
      "execution_count": 5,
      "outputs": []
    },
    {
      "cell_type": "code",
      "source": [
        "# Create map from cleaned contexts to cited papers with support counts\n",
        "\n",
        "def mappings_to_map(mappings):\n",
        "  context_to_cites_map = defaultdict(list)\n",
        "\n",
        "  for unit in tqdm(mappings):\n",
        "    context = clean_context(unit[1])\n",
        "    cited_paper = unit[3]\n",
        "\n",
        "    exists = False\n",
        "    for index, paper_info in enumerate(context_to_cites_map[context]):\n",
        "      if paper_info[0] == cited_paper:\n",
        "        context_to_cites_map[context][index][1] += 1\n",
        "        exists = True\n",
        "        break\n",
        "\n",
        "    if not exists:\n",
        "      context_to_cites_map[context].append([cited_paper, 1])\n",
        "\n",
        "  context_to_cites_map = dict(context_to_cites_map)\n",
        "  return context_to_cites_map"
      ],
      "metadata": {
        "id": "KMWzfiDxrOR0"
      },
      "execution_count": 6,
      "outputs": []
    },
    {
      "cell_type": "code",
      "source": [
        "# Testing map creation\n",
        "mappings = get_mappings_from_file('ner', 1)\n",
        "context_to_cites_map = mappings_to_map(mappings)\n",
        "dump_maps('ner', 1, context_to_cites_map)"
      ],
      "metadata": {
        "colab": {
          "base_uri": "https://localhost:8080/"
        },
        "id": "yNKUFKXvzB6O",
        "outputId": "4773f0f7-1e98-4045-f7e1-14756301e001"
      },
      "execution_count": 7,
      "outputs": [
        {
          "output_type": "stream",
          "name": "stderr",
          "text": [
            "100%|██████████| 5868/5868 [00:00<00:00, 92284.12it/s]\n"
          ]
        }
      ]
    },
    {
      "cell_type": "code",
      "source": [
        "for domain in domains:\n",
        "  for split_type in range(2):\n",
        "    print('Domain: ' + str(domain) + ', Split: ' + str(split_type), flush = True)\n",
        "    mappings = get_mappings_from_file(domain, split_type)\n",
        "    context_to_cites_map = mappings_to_map(mappings)\n",
        "    dump_maps(domain, split_type, context_to_cites_map)\n",
        "    print('Number of Mappings: ' + str(len(list(context_to_cites_map.keys()))))\n",
        "    print('', flush = True)"
      ],
      "metadata": {
        "colab": {
          "base_uri": "https://localhost:8080/"
        },
        "id": "QNo1ELRe1mmn",
        "outputId": "4d0d4c96-0022-4576-bbdd-269dff162837"
      },
      "execution_count": 8,
      "outputs": [
        {
          "output_type": "stream",
          "name": "stdout",
          "text": [
            "Domain: ner, Split: 0\n"
          ]
        },
        {
          "output_type": "stream",
          "name": "stderr",
          "text": [
            "100%|██████████| 33643/33643 [00:00<00:00, 40619.14it/s]\n"
          ]
        },
        {
          "output_type": "stream",
          "name": "stdout",
          "text": [
            "Number of Mappings: 23803\n",
            "\n",
            "Domain: ner, Split: 1\n"
          ]
        },
        {
          "output_type": "stream",
          "name": "stderr",
          "text": [
            "100%|██████████| 5868/5868 [00:00<00:00, 209146.71it/s]\n"
          ]
        },
        {
          "output_type": "stream",
          "name": "stdout",
          "text": [
            "Number of Mappings: 4221\n",
            "\n",
            "Domain: sa, Split: 0\n"
          ]
        },
        {
          "output_type": "stream",
          "name": "stderr",
          "text": [
            "100%|██████████| 83354/83354 [00:00<00:00, 100182.65it/s]\n"
          ]
        },
        {
          "output_type": "stream",
          "name": "stdout",
          "text": [
            "Number of Mappings: 56674\n",
            "\n",
            "Domain: sa, Split: 1\n"
          ]
        },
        {
          "output_type": "stream",
          "name": "stderr",
          "text": [
            "100%|██████████| 5502/5502 [00:00<00:00, 181161.38it/s]\n"
          ]
        },
        {
          "output_type": "stream",
          "name": "stdout",
          "text": [
            "Number of Mappings: 3956\n",
            "\n",
            "Domain: summ, Split: 0\n"
          ]
        },
        {
          "output_type": "stream",
          "name": "stderr",
          "text": [
            "100%|██████████| 117246/117246 [00:00<00:00, 220004.15it/s]\n"
          ]
        },
        {
          "output_type": "stream",
          "name": "stdout",
          "text": [
            "Number of Mappings: 79345\n",
            "\n",
            "Domain: summ, Split: 1\n"
          ]
        },
        {
          "output_type": "stream",
          "name": "stderr",
          "text": [
            "100%|██████████| 8404/8404 [00:00<00:00, 115447.25it/s]\n"
          ]
        },
        {
          "output_type": "stream",
          "name": "stdout",
          "text": [
            "Number of Mappings: 5811\n",
            "\n",
            "Domain: mt, Split: 0\n"
          ]
        },
        {
          "output_type": "stream",
          "name": "stderr",
          "text": [
            "100%|██████████| 161698/161698 [00:02<00:00, 78284.41it/s]\n"
          ]
        },
        {
          "output_type": "stream",
          "name": "stdout",
          "text": [
            "Number of Mappings: 108692\n",
            "\n",
            "Domain: mt, Split: 1\n"
          ]
        },
        {
          "output_type": "stream",
          "name": "stderr",
          "text": [
            "100%|██████████| 8648/8648 [00:00<00:00, 266883.04it/s]\n"
          ]
        },
        {
          "output_type": "stream",
          "name": "stdout",
          "text": [
            "Number of Mappings: 6139\n",
            "\n"
          ]
        }
      ]
    },
    {
      "cell_type": "code",
      "source": [
        "# That's it"
      ],
      "metadata": {
        "id": "zVq9oFwE2Ul3"
      },
      "execution_count": 9,
      "outputs": []
    }
  ]
}