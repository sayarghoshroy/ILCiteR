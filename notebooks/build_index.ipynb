{
 "cells": [
  {
   "cell_type": "code",
   "execution_count": 1,
   "id": "0c5bbfa4",
   "metadata": {},
   "outputs": [],
   "source": [
    "%%capture\n",
    "\n",
    "import json\n",
    "import tqdm\n",
    "import nltk\n",
    "\n",
    "nltk.download('punkt')"
   ]
  },
  {
   "cell_type": "code",
   "execution_count": 2,
   "id": "2e288441",
   "metadata": {},
   "outputs": [],
   "source": [
    "dataset_id = 0\n",
    "datasets = ['peerread', 'acl', 'refseer', 'arxiv']\n",
    "dataset = datasets[dataset_id]"
   ]
  },
  {
   "cell_type": "code",
   "execution_count": 3,
   "id": "fb3dee65",
   "metadata": {},
   "outputs": [],
   "source": [
    "with open('./' + dataset + '/' + 'papers.json', 'r+') as f:\n",
    "    papers = json.load(f)\n",
    "    \n",
    "with open('./' + dataset + '/' + 'contexts.json', 'r+') as f:\n",
    "    contexts = json.load(f)\n",
    "\n",
    "mapping_types = ['train', 'val', 'test']\n",
    "mapping_type_id = 0\n",
    "mapping_type = mapping_types[mapping_type_id]"
   ]
  },
  {
   "cell_type": "code",
   "execution_count": 4,
   "id": "9aa765b7",
   "metadata": {},
   "outputs": [],
   "source": [
    "def process(text):\n",
    "    tokens = [token for token in nltk.word_tokenize(text) if token != ' '\n",
    "                                                          and token != 'OTHERCIT'\n",
    "                                                          and token != 'mcOTHERCIT']\n",
    "    return tokens\n",
    "\n",
    "def isolate_sentence(text):\n",
    "    sents = nltk.sent_tokenize(text)\n",
    "    main_sent = ''\n",
    "    for sent in sents:\n",
    "        if 'TARGETCIT' in sent:\n",
    "            main_sent = sent\n",
    "            break\n",
    "            \n",
    "    tokens = [token for token in nltk.word_tokenize(main_sent) if token != ''\n",
    "                                                               and token != 'TARGETCIT'\n",
    "                                                               and token != 'OTHERCIT']\n",
    "    return tokens\n",
    "\n",
    "def tokens_to_string(tokens):\n",
    "    return ' '.join(tokens).strip()"
   ]
  },
  {
   "cell_type": "code",
   "execution_count": 5,
   "id": "e6e31ae9",
   "metadata": {},
   "outputs": [],
   "source": [
    "def fill_store(datapoints, papers, contexts):\n",
    "    global store\n",
    "    for unit in tqdm.tqdm(datapoints):\n",
    "        context_id = unit['context_id']\n",
    "        paper_ids = unit['positive_ids']\n",
    "\n",
    "        paper_node = papers[paper_ids[0]]\n",
    "        context_text = contexts[context_id]['masked_text']\n",
    "\n",
    "        blob = {}\n",
    "        blob['cite_span'] = tokens_to_string(isolate_sentence(context_text))\n",
    "        blob['cite_context'] = tokens_to_string(process(context_text))\n",
    "        blob['raw_context_id'] = context_id\n",
    "        blob['paper_id'] = paper_ids[0]\n",
    "\n",
    "        blob['paper'] = paper_node\n",
    "\n",
    "        store.append(blob)"
   ]
  },
  {
   "cell_type": "code",
   "execution_count": 6,
   "id": "01ce6453",
   "metadata": {},
   "outputs": [],
   "source": [
    "# blob['paper'] fields (for all four datasets):\n",
    "# 'title'\n",
    "# 'abstract'\n",
    "# 'authors'"
   ]
  },
  {
   "cell_type": "code",
   "execution_count": 7,
   "id": "961ae620",
   "metadata": {},
   "outputs": [
    {
     "name": "stderr",
     "output_type": "stream",
     "text": [
      "100%|████████████████████████████████████████████████████████████████████████████████████████████████████████████| 9363/9363 [00:02<00:00, 3259.15it/s]\n",
      "100%|██████████████████████████████████████████████████████████████████████████████████████████████████████████████| 492/492 [00:00<00:00, 3216.63it/s]\n"
     ]
    }
   ],
   "source": [
    "store = []\n",
    "\n",
    "with open('./' + dataset + '/' + mapping_types[0] + '.json', 'r+') as f:\n",
    "    set_A = json.load(f)\n",
    "\n",
    "with open('./' + dataset + '/' + mapping_types[1] + '.json', 'r+') as f:\n",
    "    set_B = json.load(f)\n",
    "    \n",
    "fill_store(set_A, papers, contexts)\n",
    "fill_store(set_B, papers, contexts)"
   ]
  },
  {
   "cell_type": "code",
   "execution_count": 8,
   "id": "47468a07",
   "metadata": {},
   "outputs": [],
   "source": [
    "with open('./' + dataset + '/' + 'index.json', 'w+') as f:\n",
    "    json.dump(store, f)"
   ]
  },
  {
   "cell_type": "code",
   "execution_count": 9,
   "id": "866f5f12",
   "metadata": {},
   "outputs": [],
   "source": [
    "# That's it"
   ]
  }
 ],
 "metadata": {
  "kernelspec": {
   "display_name": "Python 3 (ipykernel)",
   "language": "python",
   "name": "python3"
  },
  "language_info": {
   "codemirror_mode": {
    "name": "ipython",
    "version": 3
   },
   "file_extension": ".py",
   "mimetype": "text/x-python",
   "name": "python",
   "nbconvert_exporter": "python",
   "pygments_lexer": "ipython3",
   "version": "3.9.13"
  }
 },
 "nbformat": 4,
 "nbformat_minor": 5
}
