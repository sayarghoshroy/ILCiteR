{
  "nbformat": 4,
  "nbformat_minor": 0,
  "metadata": {
    "colab": {
      "provenance": [],
      "mount_file_id": "1E2BZZvUpm4aiY9-spiejB_v5MXd9w86k",
      "authorship_tag": "ABX9TyMa1El5nKqOwSGb2of/xQ6C",
      "include_colab_link": true
    },
    "kernelspec": {
      "name": "python3",
      "display_name": "Python 3"
    },
    "language_info": {
      "name": "python"
    }
  },
  "cells": [
    {
      "cell_type": "markdown",
      "metadata": {
        "id": "view-in-github",
        "colab_type": "text"
      },
      "source": [
        "<a href=\"https://colab.research.google.com/github/anon/ILCiteR/blob/main/split_papers.ipynb\" target=\"_parent\"><img src=\"https://colab.research.google.com/assets/colab-badge.svg\" alt=\"Open In Colab\"/></a>"
      ]
    },
    {
      "cell_type": "code",
      "execution_count": 1,
      "metadata": {
        "id": "Y6_91UQMg0jO"
      },
      "outputs": [],
      "source": [
        "# Split the collection of papers in a domain into two sets: External Database (D) and Evaluation (E)"
      ]
    },
    {
      "cell_type": "code",
      "source": [
        "import json\n",
        "import ast"
      ],
      "metadata": {
        "id": "T9V7LTsWkN5a"
      },
      "execution_count": 2,
      "outputs": []
    },
    {
      "cell_type": "code",
      "source": [
        "base_location = 'drive/My Drive/cite_reco_s2orc/full/'\n",
        "meta_loc = 'metadata/'\n",
        "parses_loc = 'domain_parses/'\n",
        "all_loc = 'combined/'\n",
        "D_loc = 'Database/'\n",
        "E_loc = 'Eval/'\n",
        "domain_codes = ['mt', 'summ', 'ner', 'sa']"
      ],
      "metadata": {
        "id": "NHd041FohF4U"
      },
      "execution_count": 3,
      "outputs": []
    },
    {
      "cell_type": "code",
      "source": [
        "# Select Domain\n",
        "domain = domain_codes[0]"
      ],
      "metadata": {
        "id": "PV3etLcH15nG"
      },
      "execution_count": 4,
      "outputs": []
    },
    {
      "cell_type": "code",
      "source": [
        "with open(base_location + parses_loc + all_loc + domain + '.json', 'r+') as f:\n",
        "  parses = json.load(f)"
      ],
      "metadata": {
        "id": "Jq414D5qi_-s"
      },
      "execution_count": 5,
      "outputs": []
    },
    {
      "cell_type": "code",
      "source": [
        "ID_to_year = {}\n",
        "with open(base_location + meta_loc + domain + '.jsonl', 'r+') as f:\n",
        "  while True:\n",
        "    line = f.readline()\n",
        "    if not line:\n",
        "      break\n",
        "    paper_meta = ast.literal_eval(line)\n",
        "    ID_to_year[paper_meta['paper_id']] = paper_meta['year']\n",
        "\n",
        "# Add year information to paper parse\n",
        "\n",
        "for index in range(len(parses)):\n",
        "  parses[index]['year'] = ID_to_year[parses[index]['paper_id']]"
      ],
      "metadata": {
        "id": "butqRK6-oskc"
      },
      "execution_count": 6,
      "outputs": []
    },
    {
      "cell_type": "code",
      "source": [
        "# Sorting parses in descending order of year\n",
        "parses = sorted(parses, key = lambda d: d['year'] if d['year'] is not None else -1, reverse = True)\n",
        "eval_papers_size = 200"
      ],
      "metadata": {
        "id": "80PQwKz9kcb0"
      },
      "execution_count": 7,
      "outputs": []
    },
    {
      "cell_type": "code",
      "source": [
        "with open(base_location + parses_loc + E_loc + domain + '.json', 'w+') as f:\n",
        "  json.dump(parses[0 : eval_papers_size], f)\n",
        "\n",
        "with open(base_location + parses_loc + D_loc + domain + '.json', 'w+') as f:\n",
        "  json.dump(parses[eval_papers_size :], f)"
      ],
      "metadata": {
        "id": "dpjY54Mf0odP"
      },
      "execution_count": 8,
      "outputs": []
    },
    {
      "cell_type": "code",
      "source": [
        "# That's it"
      ],
      "metadata": {
        "id": "9vlAjLLw0t_E"
      },
      "execution_count": 9,
      "outputs": []
    }
  ]
}