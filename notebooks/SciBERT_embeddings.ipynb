{
  "nbformat": 4,
  "nbformat_minor": 0,
  "metadata": {
    "colab": {
      "provenance": [],
      "gpuType": "T4",
      "mount_file_id": "1Rcq495_ar9-9WrUCY6sI2U9hjwbikmTn",
      "authorship_tag": "ABX9TyMMKqzUY1itvYxHEGePL/Gv",
      "include_colab_link": true
    },
    "kernelspec": {
      "name": "python3",
      "display_name": "Python 3"
    },
    "language_info": {
      "name": "python"
    },
    "accelerator": "GPU"
  },
  "cells": [
    {
      "cell_type": "markdown",
      "metadata": {
        "id": "view-in-github",
        "colab_type": "text"
      },
      "source": [
        "<a href=\"https://colab.research.google.com/github/anon/ILCiteR/blob/main/SciBERT_embeddings.ipynb\" target=\"_parent\"><img src=\"https://colab.research.google.com/assets/colab-badge.svg\" alt=\"Open In Colab\"/></a>"
      ]
    },
    {
      "cell_type": "code",
      "execution_count": 1,
      "metadata": {
        "id": "vOZtMkfqcKyO"
      },
      "outputs": [],
      "source": [
        "# Map every text context within all_contexts\n",
        "# To their SciBERT embedding"
      ]
    },
    {
      "cell_type": "code",
      "source": [
        "%%capture\n",
        "!pip install transformers"
      ],
      "metadata": {
        "id": "BHoXcI6toUaz"
      },
      "execution_count": 2,
      "outputs": []
    },
    {
      "cell_type": "code",
      "source": [
        "import json\n",
        "import pickle\n",
        "import tqdm\n",
        "from transformers import BertTokenizer, BertModel\n",
        "import torch\n",
        "import numpy"
      ],
      "metadata": {
        "id": "YrrDBPbFdNfc"
      },
      "execution_count": 3,
      "outputs": []
    },
    {
      "cell_type": "code",
      "source": [
        "location = 'drive/My Drive/cite_reco_s2orc/full/experiments/'\n",
        "test_count = 500"
      ],
      "metadata": {
        "id": "drrq8QUMdhEM"
      },
      "execution_count": 4,
      "outputs": []
    },
    {
      "cell_type": "code",
      "source": [
        "def get_all_contexts():\n",
        "  global location, test_count\n",
        "\n",
        "  with open(location + 'all_contexts_' + str(test_count) + '.json', 'r+') as f:\n",
        "    all_contexts = json.load(f)\n",
        "\n",
        "  return all_contexts\n",
        "\n",
        "def dump_context_to_embeddings(context_to_embeddings):\n",
        "  global location, test_count\n",
        "\n",
        "  with open(location + 'context_to_embed_' + str(test_count) + '.pkl', 'wb') as f:\n",
        "    pickle.dump(context_to_embeddings, f)\n",
        "\n",
        "  return"
      ],
      "metadata": {
        "id": "MfC_-bVueKQt"
      },
      "execution_count": 5,
      "outputs": []
    },
    {
      "cell_type": "code",
      "source": [
        "%%capture\n",
        "\n",
        "# Load SciBERT tokenizer and model\n",
        "tokenizer = BertTokenizer.from_pretrained('allenai/scibert_scivocab_cased')\n",
        "model = BertModel.from_pretrained('allenai/scibert_scivocab_cased')"
      ],
      "metadata": {
        "id": "ZUqCzRp4oTqY"
      },
      "execution_count": 6,
      "outputs": []
    },
    {
      "cell_type": "code",
      "source": [
        "def SciBERT_embeddings(contexts_list):\n",
        "  embeddings_list = []\n",
        "\n",
        "  for context in tqdm.tqdm(contexts_list):\n",
        "    # Tokenize context\n",
        "    tokenized_input = tokenizer(context, padding = True, truncation = True, max_length = 128, return_tensors = 'pt')\n",
        "\n",
        "    # Forward pass through the SciBERT model to obtain embeddings\n",
        "    with torch.no_grad():\n",
        "        outputs = model(**tokenized_input)\n",
        "\n",
        "    # Extracting the [CLS] token's from the final hidden layer embedding for each context\n",
        "    cls_embedding = outputs.last_hidden_state[:, 0, :].numpy().squeeze()\n",
        "    # Shape: (768, )\n",
        "\n",
        "    embeddings_list.append(cls_embedding)\n",
        "\n",
        "  return embeddings_list"
      ],
      "metadata": {
        "id": "TQGVKH6JoQe4"
      },
      "execution_count": 7,
      "outputs": []
    },
    {
      "cell_type": "code",
      "source": [
        "def create_context_to_embed_map(contexts_list, embeddings_list):\n",
        "  context_to_embed_map = {}\n",
        "\n",
        "  for index, context in enumerate(contexts_list):\n",
        "    context_to_embed_map[context] = embeddings_list[index]\n",
        "\n",
        "  return context_to_embed_map"
      ],
      "metadata": {
        "id": "qq4uEvn3qbzM"
      },
      "execution_count": 8,
      "outputs": []
    },
    {
      "cell_type": "code",
      "source": [
        "# Unit Test\n",
        "\n",
        "run_unit_test = False\n",
        "\n",
        "if run_unit_test:\n",
        "  contexts_list = ['BERT', 'GPT', 'Large Language Model']\n",
        "  embeddings_list = SciBERT_embeddings(contexts_list)\n",
        "  context_to_embed_map = create_context_to_embed_map(contexts_list, embeddings_list)\n",
        "  dump_context_to_embeddings(context_to_embed_map)"
      ],
      "metadata": {
        "id": "pVld99D2pa4R"
      },
      "execution_count": 9,
      "outputs": []
    },
    {
      "cell_type": "code",
      "source": [
        "# Generating SciBERT embeddings for all contexts\n",
        "\n",
        "all_contexts = get_all_contexts()\n",
        "embeddings_list = SciBERT_embeddings(all_contexts)\n",
        "context_to_embed_map = create_context_to_embed_map(all_contexts, embeddings_list)\n",
        "dump_context_to_embeddings(context_to_embed_map)\n",
        "\n",
        "tqdm.tqdm.write('')\n",
        "tqdm.tqdm.write('Completed.')"
      ],
      "metadata": {
        "colab": {
          "base_uri": "https://localhost:8080/"
        },
        "id": "Vkw_Xh98uAPz",
        "outputId": "d082a2c1-e0c4-4377-d379-025128455a88"
      },
      "execution_count": 10,
      "outputs": [
        {
          "output_type": "stream",
          "name": "stderr",
          "text": [
            "100%|██████████| 64765/64765 [2:40:23<00:00,  6.73it/s]\n"
          ]
        },
        {
          "output_type": "stream",
          "name": "stdout",
          "text": [
            "\n",
            "Completed.\n"
          ]
        }
      ]
    },
    {
      "cell_type": "code",
      "source": [
        "# That's it"
      ],
      "metadata": {
        "id": "gP57sXLOe9eW"
      },
      "execution_count": 11,
      "outputs": []
    }
  ]
}